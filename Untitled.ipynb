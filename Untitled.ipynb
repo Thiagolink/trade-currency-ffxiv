{
 "cells": [
  {
   "cell_type": "code",
   "execution_count": 1,
   "id": "207924b6-a210-4556-94a3-c5d95ff3d7a7",
   "metadata": {},
   "outputs": [],
   "source": [
    "import requests\n",
    "from bs4 import BeautifulSoup"
   ]
  },
  {
   "cell_type": "code",
   "execution_count": 2,
   "id": "ae374dde-71a5-41d9-976a-621d7d193f5f",
   "metadata": {},
   "outputs": [],
   "source": [
    "def get_cookies_universalis(server):\n",
    "    response_with_cookies = requests.get('https://universalis.app/')\n",
    "    cookies = response_with_cookies.cookies.get_dict()\n",
    "    cookies['mogboard_server'] = server\n",
    "    return cookies\n",
    "\n",
    "def get_html_item_page(cookies):\n",
    "    response_item_page = requests.get('https://universalis.app/market/7766', cookies=cookies)\n",
    "    return response_item_page.text"
   ]
  },
  {
   "cell_type": "code",
   "execution_count": 3,
   "id": "c352f8a6-d6e6-4641-985a-2d4777669480",
   "metadata": {},
   "outputs": [],
   "source": [
    "def get_elements_html_item_page():\n",
    "    dict_item = {}\n",
    "    \n",
    "    # Name item\n",
    "    name_item = soup.find(\"meta\", property=\"og:title\", content=True)\n",
    "    name_item['content'].replace(' - Universalis', '')\n",
    "    dict_item['name_item'] = name_item\n",
    "    \n",
    "    # Price\n",
    "    price_item = soup.find('div',{'class':'tab-page tab-cwDiabolos'}).find('td', {'class':'price-current'})['data-sort-value']\n",
    "    dict_item['price_item'] = int(prince_item)\n",
    "    \n",
    "    # Last update\n",
    "    # Average\n",
    "    # Average difference"
   ]
  },
  {
   "cell_type": "code",
   "execution_count": 4,
   "id": "2793cc85-3a76-473d-a361-c21b0e8887a7",
   "metadata": {},
   "outputs": [],
   "source": [
    "cookies_universalis = get_cookies_universalis(server='Diabolos')\n",
    "html_universalis = get_html_item_page(cookies_universalis)"
   ]
  },
  {
   "cell_type": "code",
   "execution_count": 15,
   "id": "7f61e515-68cb-4bed-83d2-d85e0833f9d9",
   "metadata": {},
   "outputs": [],
   "source": [
    "soup = BeautifulSoup(html_universalis, \"html.parser\")"
   ]
  },
  {
   "cell_type": "code",
   "execution_count": 22,
   "id": "6b08c516-ef89-43ec-b03f-ed849a75d4a0",
   "metadata": {
    "tags": []
   },
   "outputs": [
    {
     "data": {
      "text/plain": [
       "'1575'"
      ]
     },
     "execution_count": 22,
     "metadata": {},
     "output_type": "execute_result"
    }
   ],
   "source": [
    "soup.find('div',{'class':'tab-page tab-cwDiabolos'}).find('td', {'class':'price-current'})['data-sort-value']"
   ]
  },
  {
   "cell_type": "code",
   "execution_count": 10,
   "id": "c84615c6-637f-4a42-973d-9a6e8f1ad602",
   "metadata": {},
   "outputs": [
    {
     "ename": "KeyError",
     "evalue": "'content'",
     "output_type": "error",
     "traceback": [
      "\u001b[0;31m---------------------------------------------------------------------------\u001b[0m",
      "\u001b[0;31mKeyError\u001b[0m                                  Traceback (most recent call last)",
      "\u001b[0;32m<ipython-input-10-6f11953e9d22>\u001b[0m in \u001b[0;36m<module>\u001b[0;34m\u001b[0m\n\u001b[0;32m----> 1\u001b[0;31m \u001b[0mtitle\u001b[0m\u001b[0;34m[\u001b[0m\u001b[0;34m'content'\u001b[0m\u001b[0;34m]\u001b[0m\u001b[0;34m\u001b[0m\u001b[0;34m\u001b[0m\u001b[0m\n\u001b[0m",
      "\u001b[0;32m/opt/conda/lib/python3.9/site-packages/bs4/element.py\u001b[0m in \u001b[0;36m__getitem__\u001b[0;34m(self, key)\u001b[0m\n\u001b[1;32m   1404\u001b[0m         \"\"\"tag[key] returns the value of the 'key' attribute for the Tag,\n\u001b[1;32m   1405\u001b[0m         and throws an exception if it's not there.\"\"\"\n\u001b[0;32m-> 1406\u001b[0;31m         \u001b[0;32mreturn\u001b[0m \u001b[0mself\u001b[0m\u001b[0;34m.\u001b[0m\u001b[0mattrs\u001b[0m\u001b[0;34m[\u001b[0m\u001b[0mkey\u001b[0m\u001b[0;34m]\u001b[0m\u001b[0;34m\u001b[0m\u001b[0;34m\u001b[0m\u001b[0m\n\u001b[0m\u001b[1;32m   1407\u001b[0m \u001b[0;34m\u001b[0m\u001b[0m\n\u001b[1;32m   1408\u001b[0m     \u001b[0;32mdef\u001b[0m \u001b[0m__iter__\u001b[0m\u001b[0;34m(\u001b[0m\u001b[0mself\u001b[0m\u001b[0;34m)\u001b[0m\u001b[0;34m:\u001b[0m\u001b[0;34m\u001b[0m\u001b[0;34m\u001b[0m\u001b[0m\n",
      "\u001b[0;31mKeyError\u001b[0m: 'content'"
     ]
    }
   ],
   "source": [
    "title['content']"
   ]
  },
  {
   "cell_type": "code",
   "execution_count": null,
   "id": "26e5639f-6452-4707-95c5-2b236d7d2788",
   "metadata": {},
   "outputs": [],
   "source": []
  }
 ],
 "metadata": {
  "kernelspec": {
   "display_name": "Python 3",
   "language": "python",
   "name": "python3"
  },
  "language_info": {
   "codemirror_mode": {
    "name": "ipython",
    "version": 3
   },
   "file_extension": ".py",
   "mimetype": "text/x-python",
   "name": "python",
   "nbconvert_exporter": "python",
   "pygments_lexer": "ipython3",
   "version": "3.9.4"
  }
 },
 "nbformat": 4,
 "nbformat_minor": 5
}
