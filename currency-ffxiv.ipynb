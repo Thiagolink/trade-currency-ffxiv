{
 "cells": [
  {
   "cell_type": "markdown",
   "id": "bd9925d8-7dc6-4592-8964-47c3ec36a35c",
   "metadata": {},
   "source": [
    "## TO DO\n",
    "- Lista dos itens que precisam\n",
    "- Id desses itens no Universalis"
   ]
  },
  {
   "cell_type": "code",
   "execution_count": 42,
   "id": "207924b6-a210-4556-94a3-c5d95ff3d7a7",
   "metadata": {},
   "outputs": [],
   "source": [
    "import requests\n",
    "from bs4 import BeautifulSoup"
   ]
  },
  {
   "cell_type": "code",
   "execution_count": 43,
   "id": "ae374dde-71a5-41d9-976a-621d7d193f5f",
   "metadata": {},
   "outputs": [],
   "source": [
    "def get_cookies_universalis(server):\n",
    "    response_with_cookies = requests.get('https://universalis.app/')\n",
    "    cookies = response_with_cookies.cookies.get_dict()\n",
    "    cookies['mogboard_server'] = server\n",
    "    return cookies\n",
    "\n",
    "def get_html_item_page(cookies):\n",
    "    response_item_page = requests.get('https://universalis.app/market/7766', cookies=cookies)\n",
    "    return response_item_page.text"
   ]
  },
  {
   "cell_type": "code",
   "execution_count": 54,
   "id": "c352f8a6-d6e6-4641-985a-2d4777669480",
   "metadata": {},
   "outputs": [],
   "source": [
    "def get_elements_html_item_page(html, server):\n",
    "    \n",
    "    soup = BeautifulSoup(html, \"html.parser\")\n",
    "    dict_item = {}\n",
    "    \n",
    "    soup_server = soup.find('div',{'class':'tab-page tab-cw' + server})\n",
    "    \n",
    "    # Name item\n",
    "    name_item = soup.find(\"meta\", property=\"og:title\", content=True)\n",
    "    name_item = name_item['content'].replace(' - Universalis', '')\n",
    "    dict_item['name_item'] = name_item\n",
    "    \n",
    "    # Price\n",
    "    price_item = soup_server.find('td', {'class':'price-current'})['data-sort-value']\n",
    "    dict_item['price_item'] = int(price_item)\n",
    "    \n",
    "    # Last update\n",
    "    last_update_item = soup_server.find('div', {'class':'cw-table cw-prices'}).find('h4').find('small').text\n",
    "    dict_item['last_update_item'] = last_update_item.split(': ')[1].split(' (')[0]\n",
    "    \n",
    "    # Average\n",
    "    average_item = soup_server.find('td', {'class':'price-diff price-diff-good'})['data-tippy-content'].split('(NQ) ')[1]\n",
    "    dict_item['average_item'] = int(average_item.replace(',', ''))\n",
    "    \n",
    "    # Average difference\n",
    "    average_difference_item = soup_server.find('td', {'class':'price-diff price-diff-good'})['data-sort-value']\n",
    "    dict_item['average_difference_item'] = int(average_difference_item)\n",
    "    \n",
    "    return dict_item"
   ]
  },
  {
   "cell_type": "code",
   "execution_count": 55,
   "id": "2793cc85-3a76-473d-a361-c21b0e8887a7",
   "metadata": {},
   "outputs": [],
   "source": [
    "cookies_universalis = get_cookies_universalis(server='Diabolos')\n",
    "html_universalis = get_html_item_page(cookies_universalis)\n",
    "elements_universalis = get_elements_html_item_page(html_universalis, 'Diabolos')"
   ]
  },
  {
   "cell_type": "code",
   "execution_count": null,
   "id": "26e5639f-6452-4707-95c5-2b236d7d2788",
   "metadata": {},
   "outputs": [],
   "source": []
  }
 ],
 "metadata": {
  "kernelspec": {
   "display_name": "Python 3",
   "language": "python",
   "name": "python3"
  },
  "language_info": {
   "codemirror_mode": {
    "name": "ipython",
    "version": 3
   },
   "file_extension": ".py",
   "mimetype": "text/x-python",
   "name": "python",
   "nbconvert_exporter": "python",
   "pygments_lexer": "ipython3",
   "version": "3.9.4"
  }
 },
 "nbformat": 4,
 "nbformat_minor": 5
}
